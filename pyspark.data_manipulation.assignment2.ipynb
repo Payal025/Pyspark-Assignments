{
 "cells": [
  {
   "cell_type": "markdown",
   "id": "256a969e-3a47-4aae-b359-d0bb886a2af8",
   "metadata": {},
   "source": []
  },
  {
   "cell_type": "code",
   "execution_count": 6,
   "id": "ae490403-ac30-4acf-bc02-ccbc1ece82e3",
   "metadata": {},
   "outputs": [],
   "source": [
    "from pyspark.sql import SparkSession\n",
    "spark=SparkSession.builder.appName(\"DataFrame\").getOrCreate()"
   ]
  },
  {
   "cell_type": "code",
   "execution_count": 7,
   "id": "70dbb14b-d369-4ca6-b006-2d4b097e7bc3",
   "metadata": {},
   "outputs": [],
   "source": [
    "import pandas as pd\n",
    "import numpy as np"
   ]
  },
  {
   "cell_type": "code",
   "execution_count": 8,
   "id": "896a21e5-ffad-4255-8df1-355171fc502a",
   "metadata": {},
   "outputs": [
    {
     "name": "stdout",
     "output_type": "stream",
     "text": [
      "root\n",
      " |-- productID: integer (nullable = true)\n",
      " |-- ProductName: string (nullable = true)\n",
      " |-- Category: string (nullable = true)\n",
      " |-- QuantitySold: integer (nullable = true)\n",
      " |-- PricePerUnit: integer (nullable = true)\n",
      "\n"
     ]
    }
   ],
   "source": [
    "data=spark.read.format('csv').\\\n",
    "option('inferSchema','true').\\\n",
    "option('header','true').\\\n",
    "option('path','SalesDataset.csv').\\\n",
    "load()\n",
    "data.printSchema()"
   ]
  },
  {
   "cell_type": "code",
   "execution_count": 9,
   "id": "9e008024-e422-4ec8-bfbc-51455c7304ea",
   "metadata": {},
   "outputs": [
    {
     "name": "stdout",
     "output_type": "stream",
     "text": [
      "+---------+-----------+---------------+------------+------------+\n",
      "|productID|ProductName|       Category|QuantitySold|PricePerUnit|\n",
      "+---------+-----------+---------------+------------+------------+\n",
      "|        1|  Product_A|    Electronics|         100|         260|\n",
      "|        2|  Product_B|       Clothing|         123|         200|\n",
      "|        3|  Product_C|Home Appliances|          50|          30|\n",
      "|        4|  Product_D|     Stationary|          80|          10|\n",
      "+---------+-----------+---------------+------------+------------+\n",
      "\n"
     ]
    }
   ],
   "source": [
    "data.show()"
   ]
  },
  {
   "cell_type": "code",
   "execution_count": 10,
   "id": "5a4e0908-3990-4b8b-989c-d1b444baf3a0",
   "metadata": {},
   "outputs": [],
   "source": [
    "#1.Create a new column named `TotalSales` that represents the total sales for each product (quantity sold multiplied by the price per unit)."
   ]
  },
  {
   "cell_type": "code",
   "execution_count": 11,
   "id": "e4572672-972c-4bea-a1a6-c39c4e9eda17",
   "metadata": {},
   "outputs": [],
   "source": [
    "from pyspark.sql.functions import col"
   ]
  },
  {
   "cell_type": "code",
   "execution_count": 12,
   "id": "5f161478-6bc6-4cc2-9bb0-0f8b9d168760",
   "metadata": {},
   "outputs": [],
   "source": [
    "data=data.withColumn('TotalSales',col('QuantitySold')*col('PricePerUnit'))"
   ]
  },
  {
   "cell_type": "code",
   "execution_count": 13,
   "id": "68c856ef-7a2a-47b0-8130-61c7eb8b8052",
   "metadata": {},
   "outputs": [
    {
     "name": "stdout",
     "output_type": "stream",
     "text": [
      "+---------+-----------+---------------+------------+------------+----------+\n",
      "|productID|ProductName|       Category|QuantitySold|PricePerUnit|TotalSales|\n",
      "+---------+-----------+---------------+------------+------------+----------+\n",
      "|        1|  Product_A|    Electronics|         100|         260|     26000|\n",
      "|        2|  Product_B|       Clothing|         123|         200|     24600|\n",
      "|        3|  Product_C|Home Appliances|          50|          30|      1500|\n",
      "|        4|  Product_D|     Stationary|          80|          10|       800|\n",
      "+---------+-----------+---------------+------------+------------+----------+\n",
      "\n"
     ]
    }
   ],
   "source": [
    "data.show()"
   ]
  },
  {
   "cell_type": "code",
   "execution_count": 14,
   "id": "64e9c85f-d252-4a5d-b3c7-df286a425056",
   "metadata": {},
   "outputs": [],
   "source": [
    "#2.Create a new DataFrame named `electronics_sales` that contains only the rows where the category is \"Electronics.\""
   ]
  },
  {
   "cell_type": "code",
   "execution_count": 15,
   "id": "3eea8173-7cca-493c-818f-46b0ee938916",
   "metadata": {},
   "outputs": [],
   "source": [
    "Electronics_sale=data.filter(col('Category')==\"Electronics\")"
   ]
  },
  {
   "cell_type": "code",
   "execution_count": 16,
   "id": "433be914-cb2c-41ca-9b5b-24cad26269ee",
   "metadata": {},
   "outputs": [
    {
     "name": "stdout",
     "output_type": "stream",
     "text": [
      "+---------+-----------+-----------+------------+------------+----------+\n",
      "|productID|ProductName|   Category|QuantitySold|PricePerUnit|TotalSales|\n",
      "+---------+-----------+-----------+------------+------------+----------+\n",
      "|        1|  Product_A|Electronics|         100|         260|     26000|\n",
      "+---------+-----------+-----------+------------+------------+----------+\n",
      "\n"
     ]
    }
   ],
   "source": [
    "Electronics_sale.show() "
   ]
  },
  {
   "cell_type": "code",
   "execution_count": 17,
   "id": "22e9db2b-0db4-48f9-8e4e-a271a8e924e5",
   "metadata": {},
   "outputs": [],
   "source": [
    "#3.Sort the `sales_data` DataFrame in descending order based on the `TotalSales` column."
   ]
  },
  {
   "cell_type": "code",
   "execution_count": 33,
   "id": "5511c693-359f-4c8f-aad0-ab0520c60500",
   "metadata": {},
   "outputs": [],
   "source": [
    "data=data.orderBy(col(\"TotalSales\").desc())"
   ]
  },
  {
   "cell_type": "code",
   "execution_count": 34,
   "id": "1fd7e0b7-dc23-4a35-a402-bbadf426caf6",
   "metadata": {},
   "outputs": [
    {
     "name": "stdout",
     "output_type": "stream",
     "text": [
      "+---------+-----------+---------------+------------+------------+----------+\n",
      "|productID|ProductName|       Category|QuantitySold|PricePerUnit|TotalSales|\n",
      "+---------+-----------+---------------+------------+------------+----------+\n",
      "|        1|  Product_A|    Electronics|         100|         260|     26000|\n",
      "|        2|  Product_B|       Clothing|         123|         200|     24600|\n",
      "|        3|  Product_C|Home Appliances|          50|          30|      1500|\n",
      "|        4|  Product_D|     Stationary|          80|          10|       800|\n",
      "+---------+-----------+---------------+------------+------------+----------+\n",
      "\n"
     ]
    }
   ],
   "source": [
    "data.show()"
   ]
  },
  {
   "cell_type": "code",
   "execution_count": null,
   "id": "c2593935-8171-4a2a-9c0d-f5f256af09aa",
   "metadata": {},
   "outputs": [],
   "source": []
  }
 ],
 "metadata": {
  "kernelspec": {
   "display_name": "Python 3 (ipykernel)",
   "language": "python",
   "name": "python3"
  },
  "language_info": {
   "codemirror_mode": {
    "name": "ipython",
    "version": 3
   },
   "file_extension": ".py",
   "mimetype": "text/x-python",
   "name": "python",
   "nbconvert_exporter": "python",
   "pygments_lexer": "ipython3",
   "version": "3.9.13"
  }
 },
 "nbformat": 4,
 "nbformat_minor": 5
}
