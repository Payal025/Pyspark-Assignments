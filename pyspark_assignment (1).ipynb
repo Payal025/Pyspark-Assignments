{
 "cells": [
  {
   "cell_type": "code",
   "execution_count": 2,
   "id": "3f8fc361-c910-4980-9fbe-59f29194a855",
   "metadata": {},
   "outputs": [],
   "source": [
    "from pyspark.sql import SparkSession\n",
    "from pyspark import SparkContext"
   ]
  },
  {
   "cell_type": "code",
   "execution_count": 3,
   "id": "0213d73a-c579-4e04-a7d5-2eb56d91d539",
   "metadata": {},
   "outputs": [],
   "source": [
    "import pandas as pd\n",
    "import numpy as np"
   ]
  },
  {
   "cell_type": "code",
   "execution_count": 4,
   "id": "e4a6c465-ce27-4e0f-816b-514726dccafd",
   "metadata": {},
   "outputs": [],
   "source": [
    "spark=SparkSession.builder.appName(\"DataFrame\").getOrCreate()"
   ]
  },
  {
   "cell_type": "code",
   "execution_count": 5,
   "id": "55c2f8c7-62a0-4139-a786-84e2f5274562",
   "metadata": {},
   "outputs": [
    {
     "name": "stdout",
     "output_type": "stream",
     "text": [
      "3.5.0\n"
     ]
    }
   ],
   "source": [
    "print(spark.version)"
   ]
  },
  {
   "cell_type": "code",
   "execution_count": 6,
   "id": "89f0dc4b-599e-4d2c-9d4b-515d43b9c99a",
   "metadata": {},
   "outputs": [
    {
     "name": "stdout",
     "output_type": "stream",
     "text": [
      "root\n",
      " |-- S.No: integer (nullable = true)\n",
      " |-- Name: string (nullable = true)\n",
      " |-- Age: integer (nullable = true)\n",
      " |-- Occupation: string (nullable = true)\n",
      " |-- Education: string (nullable = true)\n",
      "\n"
     ]
    }
   ],
   "source": [
    "data= spark.read.format('csv').\\\n",
    "option('inferSchema','true').\\\n",
    "option('header','true').\\\n",
    "option('path','person_data.csv').\\\n",
    "load()\n",
    "data.printSchema()"
   ]
  },
  {
   "cell_type": "code",
   "execution_count": 7,
   "id": "4e6b06ba-4191-4579-b329-067541bc0557",
   "metadata": {},
   "outputs": [
    {
     "name": "stdout",
     "output_type": "stream",
     "text": [
      "+----+--------+---+----------+---------+\n",
      "|S.No|    Name|Age|Occupation|Education|\n",
      "+----+--------+---+----------+---------+\n",
      "|   1|   Payal| 19|    Doctor|     yes |\n",
      "|   2|  Aaryan| 20|  Enginner|       no|\n",
      "|   3|   Kiran| 19|  designer|      no |\n",
      "|   4|   Gauri| 21|    player|     yes |\n",
      "|   5|   Abhay| 21|   teacher|     yes |\n",
      "|   6| Lakshay| 23|    Doctor|       no|\n",
      "|   7|     Ali| 43|  Enginner|      no |\n",
      "|   8|   Kirti| 54|  designer|     yes |\n",
      "|   9|  Sakshi| 76|    player|     yes |\n",
      "|  10|   Divya|  2|   teacher|       no|\n",
      "|  11|   Priya| 32|    Doctor|      no |\n",
      "|  12|  Naveen| 19|  Enginner|     yes |\n",
      "|  13|   Sahil| 20|  designer|     yes |\n",
      "|  14|   Rahul| 20|    player|       no|\n",
      "|  15|   Nancy| 19|   teacher|      no |\n",
      "|  16| Shristi| 20|    Doctor|     yes |\n",
      "|  17|   Sneha| 21|  Enginner|     yes |\n",
      "|  18|Himanshi| 22|  designer|       no|\n",
      "|  19|   Komal| 20|    player|      no |\n",
      "|  20|  Kanika| 20|   teacher|     yes |\n",
      "+----+--------+---+----------+---------+\n",
      "only showing top 20 rows\n",
      "\n"
     ]
    }
   ],
   "source": [
    "data.show()"
   ]
  },
  {
   "cell_type": "code",
   "execution_count": 8,
   "id": "0b5cbbb1-485b-4989-862f-1df82fc8e449",
   "metadata": {},
   "outputs": [],
   "source": [
    "from pyspark.sql.functions import col,desc"
   ]
  },
  {
   "cell_type": "code",
   "execution_count": 9,
   "id": "81551380-6859-461b-8165-676f1949b6d2",
   "metadata": {},
   "outputs": [],
   "source": [
    "data_1 = data.select(\"Age\").\\\n",
    "filter(col(\"Age\")>=25).\\\n",
    "orderBy(desc(\"Age\"))"
   ]
  },
  {
   "cell_type": "code",
   "execution_count": 10,
   "id": "07304a7b-0946-448c-9512-c5020c50532a",
   "metadata": {},
   "outputs": [
    {
     "name": "stdout",
     "output_type": "stream",
     "text": [
      "root\n",
      " |-- Age: integer (nullable = true)\n",
      "\n"
     ]
    }
   ],
   "source": [
    "data_1.printSchema()"
   ]
  },
  {
   "cell_type": "code",
   "execution_count": 11,
   "id": "c8976a18-3339-40b1-958a-2bd4b18ed1fb",
   "metadata": {},
   "outputs": [
    {
     "name": "stdout",
     "output_type": "stream",
     "text": [
      "+---+\n",
      "|Age|\n",
      "+---+\n",
      "| 76|\n",
      "| 54|\n",
      "| 43|\n",
      "| 32|\n",
      "+---+\n",
      "\n"
     ]
    }
   ],
   "source": [
    "data_1.show()"
   ]
  },
  {
   "cell_type": "code",
   "execution_count": null,
   "id": "2a26e673-8c94-4fba-87de-ccca031b6831",
   "metadata": {},
   "outputs": [],
   "source": []
  },
  {
   "cell_type": "code",
   "execution_count": 25,
   "id": "6bf6aac0-6255-45cc-967b-d5241f75b1e3",
   "metadata": {},
   "outputs": [
    {
     "name": "stdout",
     "output_type": "stream",
     "text": [
      "+--------+\n",
      "|avg(Age)|\n",
      "+--------+\n",
      "|    24.2|\n",
      "+--------+\n",
      "\n",
      "+--------+\n",
      "|max(Age)|\n",
      "+--------+\n",
      "|      76|\n",
      "+--------+\n",
      "\n",
      "+--------+\n",
      "|min(Age)|\n",
      "+--------+\n",
      "|       2|\n",
      "+--------+\n",
      "\n"
     ]
    }
   ],
   "source": [
    "data_2 = data.agg({'Age': 'avg'})\n",
    "data_3 = data.agg({'Age': 'max'})\n",
    "data_4 = data.agg({'Age': 'min'})\n",
    "\n",
    "data_2.show()\n",
    "data_3.show()\n",
    "data_4.show()"
   ]
  },
  {
   "cell_type": "code",
   "execution_count": null,
   "id": "646080da-b789-4258-9042-e40bc12322b3",
   "metadata": {},
   "outputs": [],
   "source": []
  },
  {
   "cell_type": "code",
   "execution_count": 19,
   "id": "2c1973a6-7482-44cf-90ad-976886b934a9",
   "metadata": {},
   "outputs": [
    {
     "name": "stdout",
     "output_type": "stream",
     "text": [
      "root\n",
      " |-- S.No: string (nullable = true)\n",
      " |-- Name: string (nullable = true)\n",
      " |-- Age: integer (nullable = true)\n",
      " |-- Occupation: string (nullable = true)\n",
      " |-- Education: string (nullable = true)\n",
      " |-- department: string (nullable = true)\n",
      "\n"
     ]
    }
   ],
   "source": [
    "data2= spark.read.format('csv').\\\n",
    "option('inferSchema','true').\\\n",
    "option('header','true').\\\n",
    "option('path','person_data2.csv').\\\n",
    "load()\n",
    "data.printSchema()"
   ]
  },
  {
   "cell_type": "code",
   "execution_count": 20,
   "id": "82d8d980-a139-4bdf-8fa6-dbdd8d966f5b",
   "metadata": {},
   "outputs": [
    {
     "name": "stdout",
     "output_type": "stream",
     "text": [
      "+----+--------+---+----------+---------+----------+\n",
      "|S.No|    Name|Age|Occupation|Education|department|\n",
      "+----+--------+---+----------+---------+----------+\n",
      "|S.No|   Payal| 19|    Doctor|     yes |        HR|\n",
      "|S.No|  Aaryan| 20|  Enginner|       no|        HR|\n",
      "|S.No|   Kiran| 19|  designer|      no |        IT|\n",
      "|S.No|   Gauri| 21|    player|     yes |        IT|\n",
      "|S.No|   Abhay| 21|   teacher|     yes |        IT|\n",
      "|S.No| Lakshay| 23|    Doctor|       no|        IT|\n",
      "|S.No|     Ali| 43|  Enginner|      no |        IT|\n",
      "|S.No|   Kirti| 54|  designer|     yes |        IT|\n",
      "|S.No|  Sakshi| 76|    player|     yes |        IT|\n",
      "|S.No|   Divya|  2|   teacher|       no|        IT|\n",
      "|S.No|   Priya| 32|    Doctor|      no |        IT|\n",
      "|S.No|  Naveen| 19|  Enginner|     yes |        IT|\n",
      "|S.No|   Sahil| 20|  designer|     yes |        IT|\n",
      "|S.No|   Rahul| 20|    player|       no|        IT|\n",
      "|S.No|   Nancy| 19|   teacher|      no |        IT|\n",
      "|S.No| Shristi| 20|    Doctor|     yes |        IT|\n",
      "|S.No|   Sneha| 21|  Enginner|     yes |        IT|\n",
      "|S.No|Himanshi| 22|  designer|       no|        IT|\n",
      "|S.No|   Komal| 20|    player|      no |        IT|\n",
      "|S.No|  Kanika| 20|   teacher|     yes |        IT|\n",
      "+----+--------+---+----------+---------+----------+\n",
      "only showing top 20 rows\n",
      "\n"
     ]
    }
   ],
   "source": [
    "data2.show()"
   ]
  },
  {
   "cell_type": "code",
   "execution_count": 29,
   "id": "8af20b35-3e4f-4d70-b376-bcc8effda684",
   "metadata": {},
   "outputs": [
    {
     "name": "stdout",
     "output_type": "stream",
     "text": [
      "  Department        Age\n",
      "0         HR  27.500000\n",
      "1         IT  34.333333\n"
     ]
    }
   ],
   "source": [
    "data2_1 = data.groupby('Department')\n",
    "\n",
    "average_age_by_department = data2_1['Age'].mean().reset_index()\n",
    "\n",
    "print(average_age_by_department)"
   ]
  },
  {
   "cell_type": "code",
   "execution_count": null,
   "id": "1e791483-875d-4f82-a905-a8d0baf1172a",
   "metadata": {},
   "outputs": [],
   "source": []
  }
 ],
 "metadata": {
  "kernelspec": {
   "display_name": "Python 3 (ipykernel)",
   "language": "python",
   "name": "python3"
  },
  "language_info": {
   "codemirror_mode": {
    "name": "ipython",
    "version": 3
   },
   "file_extension": ".py",
   "mimetype": "text/x-python",
   "name": "python",
   "nbconvert_exporter": "python",
   "pygments_lexer": "ipython3",
   "version": "3.9.13"
  }
 },
 "nbformat": 4,
 "nbformat_minor": 5
}
